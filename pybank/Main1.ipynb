{
 "cells": [
  {
   "cell_type": "code",
   "execution_count": 1,
   "id": "3b6eab72-e231-402d-a4ce-ec353c9db9c4",
   "metadata": {},
   "outputs": [],
   "source": [
    "\n",
    "import csv\n",
    "from pathlib import Path\n",
    "\n"
   ]
  },
  {
   "cell_type": "code",
   "execution_count": 2,
   "id": "47833657-09c6-4275-b869-789421198fa1",
   "metadata": {},
   "outputs": [],
   "source": [
    "csvpath=Path(\"Resources/budget_data.csv\")"
   ]
  },
  {
   "cell_type": "code",
   "execution_count": 3,
   "id": "d33760ec-878e-4c13-8f92-36c2be07c33c",
   "metadata": {},
   "outputs": [],
   "source": [
    "month=0"
   ]
  },
  {
   "cell_type": "code",
   "execution_count": 4,
   "id": "562ffe3b-0e94-4e0b-8c23-df62483111e4",
   "metadata": {},
   "outputs": [
    {
     "name": "stdout",
     "output_type": "stream",
     "text": [
      "['Date', 'Profit/Losses']\n"
     ]
    }
   ],
   "source": [
    "with open(csvpath) as pybankdata:\n",
    "    read=csv.reader(pybankdata)\n",
    "    header=next(read)\n",
    "    print(header)\n",
    "    for row in read :\n",
    "        month=month+1\n",
    "    "
   ]
  },
  {
   "cell_type": "code",
   "execution_count": 5,
   "id": "6c7f3049-24e7-4919-b31d-03703a2730e3",
   "metadata": {},
   "outputs": [
    {
     "name": "stdout",
     "output_type": "stream",
     "text": [
      "86\n"
     ]
    }
   ],
   "source": [
    "print(month)"
   ]
  },
  {
   "cell_type": "code",
   "execution_count": null,
   "id": "9b6a9022-e843-47bc-a184-d453db53a95c",
   "metadata": {},
   "outputs": [],
   "source": []
  }
 ],
 "metadata": {
  "kernelspec": {
   "display_name": "Python 3 (ipykernel)",
   "language": "python",
   "name": "python3"
  },
  "language_info": {
   "codemirror_mode": {
    "name": "ipython",
    "version": 3
   },
   "file_extension": ".py",
   "mimetype": "text/x-python",
   "name": "python",
   "nbconvert_exporter": "python",
   "pygments_lexer": "ipython3",
   "version": "3.11.5"
  }
 },
 "nbformat": 4,
 "nbformat_minor": 5
}
