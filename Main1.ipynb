{
 "cells": [
  {
   "cell_type": "code",
   "execution_count": 1,
   "id": "3b6eab72-e231-402d-a4ce-ec353c9db9c4",
   "metadata": {},
   "outputs": [],
   "source": [
    "\n",
    "import csv\n",
    "from pathlib import Path\n",
    "\n"
   ]
  },
  {
   "cell_type": "code",
   "execution_count": 2,
   "id": "47833657-09c6-4275-b869-789421198fa1",
   "metadata": {},
   "outputs": [],
   "source": [
    "csvpath=Path(\"Resources/budget_data.csv\")"
   ]
  },
  {
   "cell_type": "code",
   "execution_count": 3,
   "id": "d33760ec-878e-4c13-8f92-36c2be07c33c",
   "metadata": {},
   "outputs": [],
   "source": [
    "month=0\n",
    "net_total=0\n"
   ]
  },
  {
   "cell_type": "code",
   "execution_count": 4,
   "id": "562ffe3b-0e94-4e0b-8c23-df62483111e4",
   "metadata": {},
   "outputs": [
    {
     "name": "stdout",
     "output_type": "stream",
     "text": [
      "['Date', 'Profit/Losses']\n"
     ]
    }
   ],
   "source": [
    "with open(csvpath) as pybankdata:\n",
    "    read=csv.reader(pybankdata)\n",
    "    header=next(read)\n",
    "    print(header)\n",
    "    first_row=next(read) \n",
    "    month=month+1\n",
    "    net_total=net_total+ int(first_row[1])\n",
    "    for row in read :\n",
    "        month=month+1\n",
    "        net_total=net_total+ int(row[1])\n",
    "\n",
    "        \n",
    "    "
   ]
  },
  {
   "cell_type": "code",
   "execution_count": 5,
   "id": "6c7f3049-24e7-4919-b31d-03703a2730e3",
   "metadata": {},
   "outputs": [
    {
     "name": "stdout",
     "output_type": "stream",
     "text": [
      "financial anlysis\n",
      "-----------------\n",
      "total number of months 86\n",
      "total 38382578\n"
     ]
    }
   ],
   "source": [
    "print('financial anlysis')\n",
    "print('-----------------')\n",
    "print(f'total number of months',month)\n",
    "print(f'total',net_total)"
   ]
  },
  {
   "cell_type": "code",
   "execution_count": null,
   "id": "9b6a9022-e843-47bc-a184-d453db53a95c",
   "metadata": {},
   "outputs": [],
   "source": []
  },
  {
   "cell_type": "code",
   "execution_count": null,
   "id": "33416171-02b1-4daa-8c36-5c8863b7ef75",
   "metadata": {},
   "outputs": [],
   "source": []
  },
  {
   "cell_type": "code",
   "execution_count": null,
   "id": "5df6afed-eece-43fa-a337-42cd41fa954e",
   "metadata": {},
   "outputs": [],
   "source": []
  },
  {
   "cell_type": "code",
   "execution_count": null,
   "id": "ad4c01eb-2704-4aa4-a1c9-376863b48346",
   "metadata": {},
   "outputs": [],
   "source": []
  },
  {
   "cell_type": "code",
   "execution_count": null,
   "id": "ce929591-b3fe-482c-b92b-216eeaa3eceb",
   "metadata": {},
   "outputs": [],
   "source": []
  },
  {
   "cell_type": "code",
   "execution_count": null,
   "id": "35c4d236-122a-491c-b751-fb7f8f2fec02",
   "metadata": {},
   "outputs": [],
   "source": []
  },
  {
   "cell_type": "code",
   "execution_count": null,
   "id": "8441ec8a-ca34-4e35-8621-4a8ce1f49856",
   "metadata": {},
   "outputs": [],
   "source": []
  },
  {
   "cell_type": "code",
   "execution_count": null,
   "id": "b1c46222-d396-44ef-8a03-a9f70f047de0",
   "metadata": {},
   "outputs": [],
   "source": []
  },
  {
   "cell_type": "code",
   "execution_count": null,
   "id": "6f393565-77d6-458a-a498-54f9c7575325",
   "metadata": {},
   "outputs": [],
   "source": []
  },
  {
   "cell_type": "code",
   "execution_count": null,
   "id": "72e86f81-fc05-4db5-b6b3-d17ca9b16b20",
   "metadata": {},
   "outputs": [],
   "source": []
  },
  {
   "cell_type": "code",
   "execution_count": null,
   "id": "34e1e833-f69e-4f4c-be5b-339c235fe13f",
   "metadata": {},
   "outputs": [],
   "source": []
  },
  {
   "cell_type": "code",
   "execution_count": null,
   "id": "006d6f58-6bd6-49a0-90e2-d8caf983c053",
   "metadata": {},
   "outputs": [],
   "source": []
  },
  {
   "cell_type": "code",
   "execution_count": null,
   "id": "3f739964-40d8-48f4-8ebd-5ae3eb6da778",
   "metadata": {},
   "outputs": [],
   "source": []
  },
  {
   "cell_type": "code",
   "execution_count": null,
   "id": "747e777d-78fb-4787-9742-cd2f194a7a53",
   "metadata": {},
   "outputs": [],
   "source": []
  },
  {
   "cell_type": "code",
   "execution_count": null,
   "id": "017c0b7e-382a-4ebf-93d6-63ff79dad921",
   "metadata": {},
   "outputs": [],
   "source": []
  },
  {
   "cell_type": "code",
   "execution_count": null,
   "id": "d48b814f-8822-411e-adfb-517d9f38dbd6",
   "metadata": {},
   "outputs": [],
   "source": []
  },
  {
   "cell_type": "code",
   "execution_count": null,
   "id": "884f6218-3f1a-4e75-9c08-b855c66754c4",
   "metadata": {},
   "outputs": [],
   "source": []
  }
 ],
 "metadata": {
  "kernelspec": {
   "display_name": "Python 3 (ipykernel)",
   "language": "python",
   "name": "python3"
  },
  "language_info": {
   "codemirror_mode": {
    "name": "ipython",
    "version": 3
   },
   "file_extension": ".py",
   "mimetype": "text/x-python",
   "name": "python",
   "nbconvert_exporter": "python",
   "pygments_lexer": "ipython3",
   "version": "3.11.5"
  }
 },
 "nbformat": 4,
 "nbformat_minor": 5
}
